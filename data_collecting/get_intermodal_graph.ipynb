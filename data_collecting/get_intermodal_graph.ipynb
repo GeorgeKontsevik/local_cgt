{
 "cells": [
  {
   "cell_type": "code",
   "execution_count": 1,
   "metadata": {},
   "outputs": [
    {
     "name": "stderr",
     "output_type": "stream",
     "text": [
      "/var/essdata/IDU/venvs/common_venv/lib/python3.9/site-packages/geopandas/_compat.py:112: UserWarning: The Shapely GEOS version (3.8.0-CAPI-1.13.1 ) is incompatible with the GEOS version PyGEOS was compiled with (3.10.1-CAPI-1.16.0). Conversions between both will be slow.\n",
      "  warnings.warn(\n"
     ]
    }
   ],
   "source": [
    "import osmnx as ox\n",
    "import networkx as nx\n",
    "import momepy\n",
    "import geopandas as gpd\n",
    "import shapely\n",
    "import requests\n",
    "import pandas as pd\n",
    "import osm2geojson\n",
    "\n",
    "from tqdm import trange, tqdm\n",
    "from json import JSONDecodeError\n",
    "tqdm.pandas()"
   ]
  },
  {
   "cell_type": "code",
   "execution_count": 2,
   "metadata": {},
   "outputs": [
    {
     "name": "stdout",
     "output_type": "stream",
     "text": [
      "Extracting and preparing walk graph...\n"
     ]
    }
   ],
   "source": [
    "from get_graphs import get_osmnx_graph\n",
    "\n",
    "walk_graph = get_osmnx_graph(337422, 32636, \"walk\")"
   ]
  },
  {
   "cell_type": "code",
   "execution_count": 2,
   "metadata": {},
   "outputs": [
    {
     "name": "stdout",
     "output_type": "stream",
     "text": [
      "Extracting and preparing subway routes:\n"
     ]
    },
    {
     "name": "stderr",
     "output_type": "stream",
     "text": [
      "100%|██████████| 10/10 [00:02<00:00,  3.72it/s]\n"
     ]
    },
    {
     "name": "stdout",
     "output_type": "stream",
     "text": [
      "Extracting and preparing tram routes:\n"
     ]
    },
    {
     "name": "stderr",
     "output_type": "stream",
     "text": [
      "100%|██████████| 83/83 [00:55<00:00,  1.49it/s]\n"
     ]
    },
    {
     "name": "stdout",
     "output_type": "stream",
     "text": [
      "Extracting and preparing trolleybus routes:\n"
     ]
    },
    {
     "name": "stderr",
     "output_type": "stream",
     "text": [
      "100%|██████████| 90/90 [04:10<00:00,  2.78s/it]\n"
     ]
    },
    {
     "name": "stdout",
     "output_type": "stream",
     "text": [
      "Extracting and preparing bus routes:\n"
     ]
    },
    {
     "name": "stderr",
     "output_type": "stream",
     "text": [
      "100%|██████████| 1006/1006 [1:04:12<00:00,  3.83s/it]\n"
     ]
    },
    {
     "name": "stdout",
     "output_type": "stream",
     "text": [
      "Public transport graph done!\n"
     ]
    }
   ],
   "source": [
    "from get_graphs import *\n",
    "\n",
    "time_m = {\"subway\": 32*1000/60,\n",
    "          \"tram\": 15*1000/60, \n",
    "          \"trolleybus\": 12*1000/60,\n",
    "          \"bus\": 17*1000/60, \n",
    "        }\n",
    "          \n",
    "graph = get_public_trasport_graph(337422, 32636, transport_types_speed=time_m)\n"
   ]
  },
  {
   "cell_type": "code",
   "execution_count": 6,
   "metadata": {},
   "outputs": [
    {
     "name": "stderr",
     "output_type": "stream",
     "text": [
      "/var/essdata/IDU/venvs/common_venv/lib/python3.9/site-packages/momepy/utils.py:411: UserWarning: Approach is not set. Defaulting to 'primal'.\n",
      "  warnings.warn(\"Approach is not set. Defaulting to 'primal'.\")\n"
     ]
    }
   ],
   "source": [
    "nodes, edges = momepy.nx_to_gdf(graph, points=True, lines=True, spatial_weights=False)"
   ]
  },
  {
   "cell_type": "code",
   "execution_count": 11,
   "metadata": {},
   "outputs": [],
   "source": [
    "edges[\"geometry\"]= edges[\"geometry\"].apply(lambda x: shapely.wkt.loads(x))"
   ]
  },
  {
   "cell_type": "code",
   "execution_count": 12,
   "metadata": {},
   "outputs": [],
   "source": [
    "edges.to_file(\"/var/essdata/IDU/other/mm_22/edges.geojson\", driver=\"GeoJSON\")"
   ]
  },
  {
   "cell_type": "code",
   "execution_count": 15,
   "metadata": {},
   "outputs": [],
   "source": [
    "nx.write_graphml(graph, \"/var/essdata/IDU/other/mm_22/graph.graphml\")"
   ]
  },
  {
   "cell_type": "code",
   "execution_count": 17,
   "metadata": {},
   "outputs": [],
   "source": [
    "graph_ = nx.read_graphml(\"/var/essdata/IDU/other/mm_22/graph.graphml\")"
   ]
  }
 ],
 "metadata": {
  "kernelspec": {
   "display_name": "Python 3.9.13 ('common_venv')",
   "language": "python",
   "name": "python3"
  },
  "language_info": {
   "codemirror_mode": {
    "name": "ipython",
    "version": 3
   },
   "file_extension": ".py",
   "mimetype": "text/x-python",
   "name": "python",
   "nbconvert_exporter": "python",
   "pygments_lexer": "ipython3",
   "version": "3.9.13"
  },
  "orig_nbformat": 4,
  "vscode": {
   "interpreter": {
    "hash": "7670ac83fdd1c212b41bd83cc29098e9d8ea104aed818972b6b1c02791ee2b7b"
   }
  }
 },
 "nbformat": 4,
 "nbformat_minor": 2
}
