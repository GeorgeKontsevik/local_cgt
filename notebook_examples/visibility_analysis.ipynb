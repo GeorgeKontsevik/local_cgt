{
 "cells": [
  {
   "cell_type": "code",
   "execution_count": 120,
   "metadata": {},
   "outputs": [],
   "source": [
    "import sys\n",
    "import os\n",
    "import numpy as np\n",
    "import warnings\n",
    "import geopandas as gpd\n",
    "import folium\n",
    "\n",
    "# path to folder to CityGeoTools\n",
    "folder = \"/var/essdata/IDU/other/Rest_/refactored/CityGeoTools\"\n",
    "sys.path.append(folder)\n",
    "\n",
    "from metrics.data import CityInformationModel as BaseModel\n",
    "from metrics.calculations import CityMetricsMethods as CityMetrics\n",
    "from metrics.calculations import utils\n",
    "\n",
    "warnings.simplefilter(action='ignore')"
   ]
  },
  {
   "cell_type": "markdown",
   "metadata": {},
   "source": [
    "### Visibility analysis\n",
    "\n",
    "The metric allows you to build a visibility zone (or visibility area) that shows the effects of current urban development on how far people can see an open space from a certain position.   \n",
    "\n",
    "To call the metric, first create your own City Information Model (the way how it shows [here](https://github.com/iduprojects/CityGeoTools/blob/master/notebook_examples/create_city_information_model.ipynb)) and upload the [following files](https://github.com/iduprojects/CityGeoTools/tree/master/data_specification/visibility_analysis) into it:\n",
    "- geojson file with urban buildings."
   ]
  },
  {
   "cell_type": "code",
   "execution_count": 2,
   "metadata": {},
   "outputs": [
    {
     "name": "stdout",
     "output_type": "stream",
     "text": [
      "Validation of Buildings layer...\n",
      "Buildings layer loaded successfully!\n"
     ]
    }
   ],
   "source": [
    "city_model = BaseModel.CityInformationModel(city_name=\"Saint-Petersburg\", city_crs=32636, cwd=\"../\")\n",
    "city_model.update_layer(\"Buildings\", \"./data/buildings.geojson\")"
   ]
  },
  {
   "cell_type": "markdown",
   "metadata": {},
   "source": [
    "To build visibility zone, create an instanse of VisibilityAnalysis class and call the method get_visibility_result with specified arguments:\n",
    "\n",
    "**point** - list of integer (point coordinates in EPSG 4326)  \n",
    "**view_distance** - integer (distance of overview in meter)"
   ]
  },
  {
   "cell_type": "code",
   "execution_count": 3,
   "metadata": {},
   "outputs": [],
   "source": [
    "# project point from EPSG 4326 to EPSG 32636\n",
    "\n",
    "point = [[59.942, 30.303]]\n",
    "point = utils.request_points_project(point, set_crs=4326, to_crs=32636)[0]"
   ]
  },
  {
   "cell_type": "code",
   "execution_count": 112,
   "metadata": {},
   "outputs": [],
   "source": [
    "if city_model.methods.if_method_available(\"visibility_analysis\"):\n",
    "    visibility_zone = CityMetrics.VisibilityAnalysis(city_model).get_visibility_result(point=point, view_distance=250)\n",
    "    visibility_zone_gdf = gpd.GeoDataFrame.from_features(visibility_zone).set_crs(4326)"
   ]
  },
  {
   "cell_type": "code",
   "execution_count": 121,
   "metadata": {},
   "outputs": [
    {
     "data": {
      "text/html": [
       "<div style=\"width:100%;\"><div style=\"position:relative;width:100%;height:0;padding-bottom:60%;\"><span style=\"color:#565656\">Make this Notebook Trusted to load map: File -> Trust Notebook</span><iframe srcdoc=\"&lt;!DOCTYPE html&gt;\n",
       "&lt;head&gt;    \n",
       "    &lt;meta http-equiv=&quot;content-type&quot; content=&quot;text/html; charset=UTF-8&quot; /&gt;\n",
       "    \n",
       "        &lt;script&gt;\n",
       "            L_NO_TOUCH = false;\n",
       "            L_DISABLE_3D = false;\n",
       "        &lt;/script&gt;\n",
       "    \n",
       "    &lt;style&gt;html, body {width: 100%;height: 100%;margin: 0;padding: 0;}&lt;/style&gt;\n",
       "    &lt;style&gt;#map {position:absolute;top:0;bottom:0;right:0;left:0;}&lt;/style&gt;\n",
       "    &lt;script src=&quot;https://cdn.jsdelivr.net/npm/leaflet@1.6.0/dist/leaflet.js&quot;&gt;&lt;/script&gt;\n",
       "    &lt;script src=&quot;https://code.jquery.com/jquery-1.12.4.min.js&quot;&gt;&lt;/script&gt;\n",
       "    &lt;script src=&quot;https://maxcdn.bootstrapcdn.com/bootstrap/3.2.0/js/bootstrap.min.js&quot;&gt;&lt;/script&gt;\n",
       "    &lt;script src=&quot;https://cdnjs.cloudflare.com/ajax/libs/Leaflet.awesome-markers/2.0.2/leaflet.awesome-markers.js&quot;&gt;&lt;/script&gt;\n",
       "    &lt;link rel=&quot;stylesheet&quot; href=&quot;https://cdn.jsdelivr.net/npm/leaflet@1.6.0/dist/leaflet.css&quot;/&gt;\n",
       "    &lt;link rel=&quot;stylesheet&quot; href=&quot;https://maxcdn.bootstrapcdn.com/bootstrap/3.2.0/css/bootstrap.min.css&quot;/&gt;\n",
       "    &lt;link rel=&quot;stylesheet&quot; href=&quot;https://maxcdn.bootstrapcdn.com/bootstrap/3.2.0/css/bootstrap-theme.min.css&quot;/&gt;\n",
       "    &lt;link rel=&quot;stylesheet&quot; href=&quot;https://maxcdn.bootstrapcdn.com/font-awesome/4.6.3/css/font-awesome.min.css&quot;/&gt;\n",
       "    &lt;link rel=&quot;stylesheet&quot; href=&quot;https://cdnjs.cloudflare.com/ajax/libs/Leaflet.awesome-markers/2.0.2/leaflet.awesome-markers.css&quot;/&gt;\n",
       "    &lt;link rel=&quot;stylesheet&quot; href=&quot;https://cdn.jsdelivr.net/gh/python-visualization/folium/folium/templates/leaflet.awesome.rotate.min.css&quot;/&gt;\n",
       "    \n",
       "            &lt;meta name=&quot;viewport&quot; content=&quot;width=device-width,\n",
       "                initial-scale=1.0, maximum-scale=1.0, user-scalable=no&quot; /&gt;\n",
       "            &lt;style&gt;\n",
       "                #map_e361fe0c4f4efb9ac8bbd7e3990dd2da {\n",
       "                    position: relative;\n",
       "                    width: 100.0%;\n",
       "                    height: 100.0%;\n",
       "                    left: 0.0%;\n",
       "                    top: 0.0%;\n",
       "                }\n",
       "            &lt;/style&gt;\n",
       "        \n",
       "&lt;/head&gt;\n",
       "&lt;body&gt;    \n",
       "    \n",
       "            &lt;div class=&quot;folium-map&quot; id=&quot;map_e361fe0c4f4efb9ac8bbd7e3990dd2da&quot; &gt;&lt;/div&gt;\n",
       "        \n",
       "&lt;/body&gt;\n",
       "&lt;script&gt;    \n",
       "    \n",
       "            var map_e361fe0c4f4efb9ac8bbd7e3990dd2da = L.map(\n",
       "                &quot;map_e361fe0c4f4efb9ac8bbd7e3990dd2da&quot;,\n",
       "                {\n",
       "                    center: [59.942, 30.303],\n",
       "                    crs: L.CRS.EPSG3857,\n",
       "                    zoom: 17,\n",
       "                    zoomControl: true,\n",
       "                    preferCanvas: false,\n",
       "                }\n",
       "            );\n",
       "\n",
       "            \n",
       "\n",
       "        \n",
       "    \n",
       "            var tile_layer_df425750db50641e36907496f0542403 = L.tileLayer(\n",
       "                &quot;https://cartodb-basemaps-{s}.global.ssl.fastly.net/light_all/{z}/{x}/{y}.png&quot;,\n",
       "                {&quot;attribution&quot;: &quot;\\u0026copy; \\u003ca href=\\&quot;http://www.openstreetmap.org/copyright\\&quot;\\u003eOpenStreetMap\\u003c/a\\u003e contributors \\u0026copy; \\u003ca href=\\&quot;http://cartodb.com/attributions\\&quot;\\u003eCartoDB\\u003c/a\\u003e, CartoDB \\u003ca href =\\&quot;http://cartodb.com/attributions\\&quot;\\u003eattributions\\u003c/a\\u003e&quot;, &quot;detectRetina&quot;: false, &quot;maxNativeZoom&quot;: 18, &quot;maxZoom&quot;: 18, &quot;minZoom&quot;: 0, &quot;noWrap&quot;: false, &quot;opacity&quot;: 1, &quot;subdomains&quot;: &quot;abc&quot;, &quot;tms&quot;: false}\n",
       "            ).addTo(map_e361fe0c4f4efb9ac8bbd7e3990dd2da);\n",
       "        \n",
       "    \n",
       "            var marker_25138b52f043ce8da2bd75752b90831d = L.marker(\n",
       "                [59.942, 30.303],\n",
       "                {}\n",
       "            ).addTo(map_e361fe0c4f4efb9ac8bbd7e3990dd2da);\n",
       "        \n",
       "    \n",
       "        function geo_json_d0a3ab1ba6894b187fa0b728db6b1b6c_styler(feature) {\n",
       "            switch(feature.id) {\n",
       "                default:\n",
       "                    return {&quot;fillColor&quot;: &quot;orange&quot;};\n",
       "            }\n",
       "        }\n",
       "\n",
       "        function geo_json_d0a3ab1ba6894b187fa0b728db6b1b6c_onEachFeature(feature, layer) {\n",
       "            layer.on({\n",
       "            });\n",
       "        };\n",
       "        var geo_json_d0a3ab1ba6894b187fa0b728db6b1b6c = L.geoJson(null, {\n",
       "                onEachFeature: geo_json_d0a3ab1ba6894b187fa0b728db6b1b6c_onEachFeature,\n",
       "            \n",
       "                style: geo_json_d0a3ab1ba6894b187fa0b728db6b1b6c_styler,\n",
       "        });\n",
       "\n",
       "        function geo_json_d0a3ab1ba6894b187fa0b728db6b1b6c_add (data) {\n",
       "            geo_json_d0a3ab1ba6894b187fa0b728db6b1b6c\n",
       "                .addData(data)\n",
       "                .addTo(map_e361fe0c4f4efb9ac8bbd7e3990dd2da);\n",
       "        }\n",
       "            geo_json_d0a3ab1ba6894b187fa0b728db6b1b6c_add({&quot;bbox&quot;: [30.298570132926162, 59.94050675662006, 30.304733928844033, 59.944217095865554], &quot;features&quot;: [{&quot;bbox&quot;: [30.298570132926162, 59.94050675662006, 30.304733928844033, 59.944217095865554], &quot;geometry&quot;: {&quot;coordinates&quot;: [[[30.303370358655926, 59.94198931699206], [30.303358614349854, 59.94198294517725], [30.30334063403659, 59.94197319004108], [30.303317013557965, 59.94196037484684], [30.30331459269254, 59.94195906141539], [30.303291166081188, 59.94194635138777], [30.303278241891654, 59.94193933940716], [30.30326958435853, 59.94193464228597], [30.303249262156005, 59.94192361652251], [30.303229727632317, 59.9419130181026], [30.30321043529039, 59.94190269131538], [30.30319870809363, 59.941897379859455], [30.303189613288254, 59.94189326065851], [30.30317236478661, 59.94188544849735], [30.30316876524647, 59.94188381819922], [30.303147481906876, 59.94187417857669], [30.303125319148524, 59.94186414063945], [30.303101759065374, 59.941853469816394], [30.30307615726352, 59.9418418742465], [30.303061156677536, 59.941835080174016], [30.303047664032235, 59.941828969074926], [30.30301506726322, 59.9418145848086], [30.302999, 59.9418082], [30.303011375332584, 59.941800400021506], [30.30295019584184, 59.94156534027227], [30.30291769235912, 59.941586610461506], [30.30287872410537, 59.94161211113195], [30.30285866382174, 59.94162523848185], [30.302819512370476, 59.94165085895777], [30.302768757059912, 59.94168407285279], [30.302738000000005, 59.941704200000004], [30.302703173091484, 59.941691797065], [30.302590849320058, 59.94165179498466], [30.302564849437353, 59.94164253556931], [30.302522032077366, 59.94162728687358], [30.30234407647835, 59.941563910628396], [30.302158380469752, 59.941497777240265], [30.301924350434103, 59.941414429529665], [30.3013116, 59.94119620000001], [30.301336422018444, 59.94117866693191], [30.299660939814963, 59.94050675662006], [30.29938529979366, 59.94067815348813], [30.299144467147975, 59.94086228039827], [30.29894076155686, 59.9410573643055], [30.29877614529278, 59.94126152662379], [30.298652204305682, 59.941472801310795], [30.298570132926162, 59.94168915379616], [30.300624732617205, 59.941946347713085], [30.3006318, 59.94194030000002], [30.300672894547926, 59.94195237617258], [30.302058300694743, 59.942016759743325], [30.302097099999997, 59.94198869999998], [30.302196393154258, 59.94202317646301], [30.302290469391554, 59.94205584137945], [30.302347954419783, 59.9420758011233], [30.30236690977746, 59.942082382723406], [30.302431381069944, 59.94210476813662], [30.302487490196945, 59.9421242500289], [30.302522619048453, 59.94213644724545], [30.3025376704598, 59.9421416732953], [30.30255238873987, 59.94214678367425], [30.302583653641527, 59.94215763924567], [30.302626739827755, 59.94217259929375], [30.3026679623188, 59.942186912218546], [30.302695, 59.9421963], [30.302696609062085, 59.94220885853994], [30.3026991, 59.94222829999999], [30.302679489125584, 59.94224246206908], [30.302651579379532, 59.94229724400763], [30.30267559460083, 59.942305583482046], [30.30270780288997, 59.94231676805034], [30.302765983596156, 59.94233697169508], [30.30278796898866, 59.942344606258715], [30.302827427038032, 59.942358308292675], [30.30285510935003, 59.9423679211206], [30.302893726263257, 59.94238133102718], [30.3029472, 59.9423999], [30.30289876917869, 59.94243487978382], [30.3029341386454, 59.94281045021867], [30.303002969186196, 59.94264663173073], [30.3030037, 59.94260860000001], [30.3029812, 59.94251849999997], [30.303058853551246, 59.94251362422108], [30.3031325, 59.942508999999994], [30.3031562, 59.942604199999984], [30.303153400000003, 59.942751400000006], [30.303149552441763, 59.94275718118479], [30.303693241739573, 59.944217095865554], [30.30369924867827, 59.94357477793904], [30.3035309, 59.94352429999999], [30.3035906, 59.943474399999985], [30.303486799999998, 59.943443300000006], [30.3035646, 59.9433781], [30.303646200000003, 59.943402600000006], [30.303701289626385, 59.94335652682776], [30.30388220428277, 59.94320522118211], [30.303958384086123, 59.94307409069614], [30.3039361, 59.9430674], [30.303987018525817, 59.943024801125084], [30.3040175, 59.9429993], [30.304068416095017, 59.9430146042772], [30.30415299600065, 59.94300400871116], [30.3041755, 59.9429852], [30.304213097987365, 59.94299647952665], [30.304733928844033, 59.94315272870942], [30.303989758475485, 59.94257543767051], [30.3038582, 59.9425362], [30.30383138354576, 59.94245257503188], [30.30375794927155, 59.94233892820312], [30.30368572280254, 59.94225073654974], [30.303618296409496, 59.942182433902936], [30.30356770321742, 59.94213809809633], [30.30355795314624, 59.942129553902056], [30.303509178069397, 59.94208901032103], [30.303486131668656, 59.94207223359168], [30.303464215723913, 59.94205627976347], [30.30342816497783, 59.942030036390825], [30.303400376858097, 59.942009807815516], [30.303398089495044, 59.942008142710634], [30.303370358655926, 59.94198931699206]]], &quot;type&quot;: &quot;Polygon&quot;}, &quot;id&quot;: &quot;0&quot;, &quot;properties&quot;: {}, &quot;type&quot;: &quot;Feature&quot;}], &quot;type&quot;: &quot;FeatureCollection&quot;});\n",
       "\n",
       "        \n",
       "&lt;/script&gt;\" style=\"position:absolute;width:100%;height:100%;left:0;top:0;border:none !important;\" allowfullscreen webkitallowfullscreen mozallowfullscreen></iframe></div></div>"
      ],
      "text/plain": [
       "<folium.folium.Map at 0x7f6f50104b50>"
      ]
     },
     "execution_count": 121,
     "metadata": {},
     "output_type": "execute_result"
    }
   ],
   "source": [
    "map = folium.Map(location = [59.942, 30.303], zoom_start = 17, tiles='CartoDB positron')\n",
    "geo_j = folium.GeoJson(data=visibility_zone_gdf, style_function=lambda x: {'fillColor': 'orange'})\n",
    "folium.Marker([59.942, 30.303]).add_to(map)\n",
    "geo_j.add_to(map)\n",
    "map"
   ]
  }
 ],
 "metadata": {
  "kernelspec": {
   "display_name": "Python 3.9.13 ('common_venv')",
   "language": "python",
   "name": "python3"
  },
  "language_info": {
   "codemirror_mode": {
    "name": "ipython",
    "version": 3
   },
   "file_extension": ".py",
   "mimetype": "text/x-python",
   "name": "python",
   "nbconvert_exporter": "python",
   "pygments_lexer": "ipython3",
   "version": "3.9.13"
  },
  "orig_nbformat": 4,
  "vscode": {
   "interpreter": {
    "hash": "7670ac83fdd1c212b41bd83cc29098e9d8ea104aed818972b6b1c02791ee2b7b"
   }
  }
 },
 "nbformat": 4,
 "nbformat_minor": 2
}
